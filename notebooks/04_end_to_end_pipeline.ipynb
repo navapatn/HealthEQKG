{
  "cells": [
    {
      "cell_type": "markdown",
      "metadata": {},
      "source": [
        "# 4. End-to-End NL → Cypher → Query → Summary Pipeline"
      ]
    },
    {
      "cell_type": "code",
      "execution_count": null,
      "metadata": {},
      "outputs": [],
      "source": [
        "from langchain_openai import ChatOpenAI\n",
        "from langchain.prompts import PromptTemplate\n",
        "from langchain.chains import LLMChain\n",
        "\n",
        "llm = ChatOpenAI(temperature=0, model=\"gpt-4o\", openai_api_key=\"sk-xxx\")\n",
        "\n",
        "schema_context = '''\n",
        "Nodes:\n",
        "- Doctor {npi, specialty, credential, grad_year, gender}\n",
        "- Facility {name, city, state, zip_code, adi_nat_2020}\n",
        "- MedicalSchool {name}\n",
        "- JobMobility {moves: integer}\n",
        "\n",
        "Relationships:\n",
        "(:Doctor)-[:WORKS_AT]->(:Facility)\n",
        "(:Doctor)-[:GRADUATED_FROM]->(:MedicalSchool)\n",
        "(:Doctor)-[:HAS_MOBILITY]->(:JobMobility)\n",
        "\n",
        "Guidelines:\n",
        "- Do not use SQL syntax like GROUP BY. Use WITH instead.\n",
        "- High ADI means f.adi_nat_2020 >= 80\n",
        "- Prefer COUNT() or AVG()\n",
        "'''\n",
        "\n",
        "cypher_prompt = PromptTemplate(\n",
        "    input_variables=[\"question\"],\n",
        "    template=\"\"\"\n",
        "You are a Cypher expert helping users query a healthcare knowledge graph.\n",
        "\n",
        "Schema:\n",
        "{schema}\n",
        "\n",
        "User question: {question}\n",
        "\n",
        "Return only the Cypher query.\n",
        "\"\"\".strip()\n",
        ").partial(schema=schema_context)\n",
        "\n",
        "cypher_chain = LLMChain(llm=llm, prompt=cypher_prompt)\n",
        "\n",
        "\n",
        "question = \"What is the average ADI for female doctors?\"\n",
        "cypher_query = cypher_chain.run(question=question).strip(\"` \")\n",
        "print(\"Generated Cypher:\")\n",
        "print(cypher_query)"
      ]
    },
    {
      "cell_type": "code",
      "execution_count": null,
      "metadata": {},
      "outputs": [],
      "source": [
        "#placeholder for results\n",
        "results = [\n",
        "    {\"avg_adi\": 85.7}\n",
        "]\n",
        "import pandas as pd\n",
        "pd.DataFrame(results)"
      ]
    },
    {
      "cell_type": "code",
      "execution_count": null,
      "metadata": {},
      "outputs": [],
      "source": [
        "\n",
        "summary_prompt = PromptTemplate(\n",
        "    input_variables=[\"question\", \"results\"],\n",
        "    template=\"\"\"\n",
        "You are a health data analyst. Given the following user question and raw query results, summarize the key insight in plain English.\n",
        "\n",
        "Question: {question}\n",
        "Results: {results}\n",
        "\n",
        "Answer:\n",
        "\"\"\".strip()\n",
        ")\n",
        "\n",
        "summary_llm = ChatOpenAI(temperature=0.2, model=\"gpt-4\", openai_api_key=\"sk-xxx\")\n",
        "summary_chain = LLMChain(llm=summary_llm, prompt=summary_prompt)\n",
        "\n",
        "answer = summary_chain.run(question=question, results=results)\n",
        "print(\"\\nSummary:\")\n",
        "print(answer)"
      ]
    }
  ],
  "metadata": {
    "kernelspec": {
      "display_name": "Python 3",
      "language": "python",
      "name": "python3"
    },
    "language_info": {
      "name": "python",
      "version": "3.x"
    }
  },
  "nbformat": 4,
  "nbformat_minor": 5
}
