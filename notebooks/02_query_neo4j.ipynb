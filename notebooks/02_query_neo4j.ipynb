{
  "cells": [
    {
      "cell_type": "markdown",
      "metadata": {},
      "source": [
        "# 2. Run the Cypher query (placeholder)\n",
        "Use your own Neo4j connection setup to run the generated Cypher query below."
      ]
    },
    {
      "cell_type": "code",
      "execution_count": null,
      "metadata": {},
      "outputs": [],
      "source": [
        "# This query was generated in Step 1\n",
        "cypher_query = '''\n",
        "MATCH (d:Doctor)-[:WORKS_AT]->(f:Facility)\n",
        "WHERE f.adi_nat_2020 IS NOT NULL\n",
        "WITH f.state AS state, AVG(f.adi_nat_2020) AS avg_adi\n",
        "RETURN state, avg_adi\n",
        "ORDER BY avg_adi DESC\n",
        "'''\n",
        "\n",
        "# Replace this with your Neo4j run credentials\n",
        "# from neo4j import GraphDatabase\n",
        "# driver = GraphDatabase.driver(NEO4J_URI, auth=(NEO4J_USER, NEO4J_PW))\n",
        "# with driver.session() as session:\n",
        "#     result = session.run(cypher_query)\n",
        "#     data = [record.data() for record in result]\n",
        "\n",
        "# Placeholder result to simulate\n",
        "data = [\n",
        "    {\"state\": \"MS\", \"avg_adi\": 92.3},\n",
        "    {\"state\": \"AL\", \"avg_adi\": 89.4},\n",
        "    {\"state\": \"LA\", \"avg_adi\": 87.6}\n",
        "]\n",
        "import pandas as pd\n",
        "pd.DataFrame(data)"
      ]
    }
  ],
  "metadata": {
    "kernelspec": {
      "display_name": "Python 3",
      "language": "python",
      "name": "python3"
    },
    "language_info": {
      "name": "python",
      "version": "3.x"
    }
  },
  "nbformat": 4,
  "nbformat_minor": 5
}
