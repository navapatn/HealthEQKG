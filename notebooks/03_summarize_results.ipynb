{
  "cells": [
    {
      "cell_type": "markdown",
      "metadata": {},
      "source": [
        "# 3. Use LLM to summarize the query results"
      ]
    },
    {
      "cell_type": "code",
      "execution_count": null,
      "metadata": {},
      "outputs": [],
      "source": [
        "from langchain.prompts import PromptTemplate\n",
        "from langchain.chains import LLMChain\n",
        "from langchain_openai import ChatOpenAI\n",
        "\n",
        "llm = ChatOpenAI(temperature=0.2, model=\"gpt-4\", openai_api_key=\"sk-xxx\")\n",
        "\n",
        "summary_prompt = PromptTemplate(\n",
        "    input_variables=[\"question\", \"results\"],\n",
        "    template=\"\"\"\n",
        "You are a health data analyst. Given the following user question and raw query results, summarize the key insight in plain English.\n",
        "\n",
        "Question: {question}\n",
        "Results: {results}\n",
        "\n",
        "Answer:\n",
        "\"\"\".strip()\n",
        ")\n",
        "\n",
        "summary_chain = LLMChain(llm=llm, prompt=summary_prompt)\n",
        "\n",
        "question = \"Which states have the highest average ADI score?\"\n",
        "results = [\n",
        "    {\"state\": \"MS\", \"avg_adi\": 92.3},\n",
        "    {\"state\": \"AL\", \"avg_adi\": 89.4}\n",
        "]\n",
        "\n",
        "answer = summary_chain.run(question=question, results=results)\n",
        "print(answer)"
      ]
    }
  ],
  "metadata": {
    "kernelspec": {
      "display_name": "Python 3",
      "language": "python",
      "name": "python3"
    },
    "language_info": {
      "name": "python",
      "version": "3.x"
    }
  },
  "nbformat": 4,
  "nbformat_minor": 5
}
