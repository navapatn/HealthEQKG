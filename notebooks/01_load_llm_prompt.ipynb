{
  "cells": [
    {
      "cell_type": "markdown",
      "metadata": {},
      "source": [
        "# 1. Load LLM and define Cypher translation prompt"
      ]
    },
    {
      "cell_type": "code",
      "metadata": {},
      "source": [
        "from langchain_openai import ChatOpenAI\n",
        "from langchain.prompts import PromptTemplate\n",
        "from langchain.chains import LLMChain\n",
        "\n",
        "# Replace with your actual API key or environment setup\n",
        "llm = ChatOpenAI(temperature=0, model=\"gpt-4\", openai_api_key=\"sk-xxx\")\n",
        "\n",
        "schema_context = '''\n",
        "Nodes:\n",
        "- Doctor {npi, specialty, credential, grad_year, gender}\n",
        "  \u2022 gender: 'M' or 'F'\n",
        "  \u2022 grad_year: integer\n",
        "- Facility {name, city, state, zip_code, adi_nat_2020}\n",
        "- MedicalSchool {name}\n",
        "- JobMobility {moves: integer}\n",
        "\n",
        "Relationships:\n",
        "(:Doctor)-[:WORKS_AT]->(:Facility)\n",
        "(:Doctor)-[:GRADUATED_FROM]->(:MedicalSchool)\n",
        "(:Doctor)-[:HAS_MOBILITY]->(:JobMobility)\n",
        "\n",
        "Guidelines:\n",
        "- Do not use SQL syntax like GROUP BY. Use WITH instead.\n",
        "- Always assume 'F' or 'M' for gender values.\n",
        "- High ADI means f.adi_nat_2020 >= 80\n",
        "- Prefer COUNT() or AVG()\n",
        "- Use EXISTS or IS NOT NULL when needed\n",
        "'''\n",
        "\n",
        "cypher_prompt = PromptTemplate(\n",
        "    input_variables=[\"question\"],\n",
        "    template=\"\"\"\n",
        "You are a Cypher expert helping users query a healthcare knowledge graph.\n",
        "\n",
        "Schema:\n",
        "{schema}\n",
        "\n",
        "User question: {question}\n",
        "\n",
        "Return only the Cypher query.\n",
        "\"\"\".strip()\n",
        ").partial(schema=schema_context)\n",
        "\n",
        "cypher_chain = LLMChain(llm=llm, prompt=cypher_prompt)\n",
        "\n",
        "# Try a sample question\n",
        "question = \"Which states have the highest average ADI score?\"\n",
        "cypher_query = cypher_chain.run(question=question).strip()\n",
        "print(cypher_query)"
      ],
      "execution_count": null,
      "outputs": []
    }
  ],
  "metadata": {
    "kernelspec": {
      "name": "python3",
      "language": "python",
      "display_name": "Python 3"
    },
    "language_info": {
      "name": "python",
      "version": "3.x"
    }
  },
  "nbformat": 4,
  "nbformat_minor": 5
}